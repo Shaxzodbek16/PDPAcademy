{
 "cells": [
  {
   "cell_type": "code",
   "id": "18be287f-9ffb-42f7-ba46-021929137d51",
   "metadata": {
    "jupyter": {
     "is_executing": true
    },
    "ExecuteTime": {
     "start_time": "2024-05-28T14:27:17.343712Z"
    }
   },
   "source": [
    "! pip3 install pandas\n",
    "! pip3 install matplotlib.pyplot\n",
    "\n",
    "import pandas as pd\n",
    "import matplotlib.pyplot as plt\n",
    "df=pd.read_csv(\"titanic.csv\")\n",
    "\n",
    "# 1-vazifa\n",
    "male_count=df[df.Sex=='male'].shape[0]\n",
    "female_count=df[df.Sex=='female'].shape[0]\n",
    "print(f\"In the Titanic, It has {male_count+female_count} people.\")\n",
    "print(f\"All males: {male_count}.\")\n",
    "print(f\"All females: {female_count}.\")\n",
    "\n",
    "# 2-vazifa\n",
    "youngs_male=df[(df.Age < 14) & (df.Sex=='male')].shape[0]\n",
    "youngs_female=df[(df.Age < 14) & (df.Sex=='female')].shape[0]\n",
    "olders_male=df[(df.Age > 14) & (df.Sex=='male')].shape[0]\n",
    "olders_female=df[(df.Age > 14) & (df.Sex=='female')].shape[0]\n",
    "count_all=male_count+female_count\n",
    "\n",
    "# foiz=x/count_all*100\n",
    "\n",
    "\n",
    "plt.pie([youngs_male,youngs_female, olders_male,olders_female],\n",
    "       labels = [f'14 yoshdan katta male\\n\\t {youngs_male/count_all*100:.4f} %',f' 14 yoshdan katta female \\n\\t {youngs_female/count_all*100:.4f} %', f'Katta male \\n\\t {olders_male/count_all*100:.4f} %', f'Katta female \\n\\t {olders_female/count_all*100:.4f} %'])\n",
    "\n",
    "# 3-vazifa\n",
    "fare_sum=df['Fare'].sum()\n",
    "avg_fare_sum=df['Fare'].mean()\n",
    "print(fare_sum)\n",
    "print(avg_fare_sum)\n",
    "\n",
    "# 4-vazifa\n",
    "age_mean=df[(df.Age > 14) & (df.Age < 41)].shape[0]\n",
    "all_ages=df['Age'].count()\n",
    "print(age_mean)\n",
    "print(all_ages)\n",
    "age_rate=age_mean/all_ages*100\n",
    "print(f\"15-40 yosh oralig’idagi yo’lovchilar umumiy yo’lovchilarning {age_rate:.4f} % ini tashkil etadi\")\n",
    "\n",
    "#5-vazifa\n",
    "# Tirik qolgan bolalar (yoshi 16 dan kichik) barcha bolalarning necha foizini tashkil etishi aniqlansin\n",
    "young_child=df[df.Age<17 & df.Survived == 1].shape\n",
    "print(young_child)\n",
    "\n",
    "# \n",
    "\n"
   ],
   "outputs": [
    {
     "name": "stdout",
     "output_type": "stream",
     "text": [
      "\u001B[1;31merror\u001B[0m: \u001B[1mexternally-managed-environment\u001B[0m\r\n",
      "\r\n",
      "\u001B[31m×\u001B[0m This environment is externally managed\r\n",
      "\u001B[31m╰─>\u001B[0m To install Python packages system-wide, try brew install\r\n",
      "\u001B[31m   \u001B[0m xyz, where xyz is the package you are trying to\r\n",
      "\u001B[31m   \u001B[0m install.\r\n",
      "\u001B[31m   \u001B[0m \r\n",
      "\u001B[31m   \u001B[0m If you wish to install a Python library that isn't in Homebrew,\r\n",
      "\u001B[31m   \u001B[0m use a virtual environment:\r\n",
      "\u001B[31m   \u001B[0m \r\n",
      "\u001B[31m   \u001B[0m python3 -m venv path/to/venv\r\n",
      "\u001B[31m   \u001B[0m source path/to/venv/bin/activate\r\n",
      "\u001B[31m   \u001B[0m python3 -m pip install xyz\r\n",
      "\u001B[31m   \u001B[0m \r\n",
      "\u001B[31m   \u001B[0m If you wish to install a Python application that isn't in Homebrew,\r\n",
      "\u001B[31m   \u001B[0m it may be easiest to use 'pipx install xyz', which will manage a\r\n",
      "\u001B[31m   \u001B[0m virtual environment for you. You can install pipx with\r\n",
      "\u001B[31m   \u001B[0m \r\n",
      "\u001B[31m   \u001B[0m brew install pipx\r\n",
      "\u001B[31m   \u001B[0m \r\n",
      "\u001B[31m   \u001B[0m You may restore the old behavior of pip by passing\r\n",
      "\u001B[31m   \u001B[0m the '--break-system-packages' flag to pip, or by adding\r\n",
      "\u001B[31m   \u001B[0m 'break-system-packages = true' to your pip.conf file. The latter\r\n",
      "\u001B[31m   \u001B[0m will permanently disable this error.\r\n",
      "\u001B[31m   \u001B[0m \r\n",
      "\u001B[31m   \u001B[0m If you disable this error, we STRONGLY recommend that you additionally\r\n",
      "\u001B[31m   \u001B[0m pass the '--user' flag to pip, or set 'user = true' in your pip.conf\r\n",
      "\u001B[31m   \u001B[0m file. Failure to do this can result in a broken Homebrew installation.\r\n",
      "\u001B[31m   \u001B[0m \r\n",
      "\u001B[31m   \u001B[0m Read more about this behavior here: <https://peps.python.org/pep-0668/>\r\n",
      "\r\n",
      "\u001B[1;35mnote\u001B[0m: If you believe this is a mistake, please contact your Python installation or OS distribution provider. You can override this, at the risk of breaking your Python installation or OS, by passing --break-system-packages.\r\n",
      "\u001B[1;36mhint\u001B[0m: See PEP 668 for the detailed specification.\r\n",
      "\u001B[1;31merror\u001B[0m: \u001B[1mexternally-managed-environment\u001B[0m\r\n",
      "\r\n",
      "\u001B[31m×\u001B[0m This environment is externally managed\r\n",
      "\u001B[31m╰─>\u001B[0m To install Python packages system-wide, try brew install\r\n",
      "\u001B[31m   \u001B[0m xyz, where xyz is the package you are trying to\r\n",
      "\u001B[31m   \u001B[0m install.\r\n",
      "\u001B[31m   \u001B[0m \r\n",
      "\u001B[31m   \u001B[0m If you wish to install a Python library that isn't in Homebrew,\r\n",
      "\u001B[31m   \u001B[0m use a virtual environment:\r\n",
      "\u001B[31m   \u001B[0m \r\n",
      "\u001B[31m   \u001B[0m python3 -m venv path/to/venv\r\n",
      "\u001B[31m   \u001B[0m source path/to/venv/bin/activate\r\n",
      "\u001B[31m   \u001B[0m python3 -m pip install xyz\r\n",
      "\u001B[31m   \u001B[0m \r\n",
      "\u001B[31m   \u001B[0m If you wish to install a Python application that isn't in Homebrew,\r\n",
      "\u001B[31m   \u001B[0m it may be easiest to use 'pipx install xyz', which will manage a\r\n",
      "\u001B[31m   \u001B[0m virtual environment for you. You can install pipx with\r\n",
      "\u001B[31m   \u001B[0m \r\n",
      "\u001B[31m   \u001B[0m brew install pipx\r\n",
      "\u001B[31m   \u001B[0m \r\n",
      "\u001B[31m   \u001B[0m You may restore the old behavior of pip by passing\r\n",
      "\u001B[31m   \u001B[0m the '--break-system-packages' flag to pip, or by adding\r\n",
      "\u001B[31m   \u001B[0m 'break-system-packages = true' to your pip.conf file. The latter\r\n",
      "\u001B[31m   \u001B[0m will permanently disable this error.\r\n",
      "\u001B[31m   \u001B[0m \r\n",
      "\u001B[31m   \u001B[0m If you disable this error, we STRONGLY recommend that you additionally\r\n",
      "\u001B[31m   \u001B[0m pass the '--user' flag to pip, or set 'user = true' in your pip.conf\r\n",
      "\u001B[31m   \u001B[0m file. Failure to do this can result in a broken Homebrew installation.\r\n",
      "\u001B[31m   \u001B[0m \r\n",
      "\u001B[31m   \u001B[0m Read more about this behavior here: <https://peps.python.org/pep-0668/>\r\n",
      "\r\n",
      "\u001B[1;35mnote\u001B[0m: If you believe this is a mistake, please contact your Python installation or OS distribution provider. You can override this, at the risk of breaking your Python installation or OS, by passing --break-system-packages.\r\n",
      "\u001B[1;36mhint\u001B[0m: See PEP 668 for the detailed specification.\r\n"
     ]
    }
   ],
   "execution_count": null
  },
  {
   "cell_type": "code",
   "id": "a6cd323a-c72b-44ce-8bac-e277afb0d178",
   "metadata": {
    "jupyter": {
     "is_executing": true
    }
   },
   "source": [],
   "outputs": [],
   "execution_count": null
  },
  {
   "cell_type": "code",
   "id": "13e7fde2-7715-4b0a-9b7a-7ee1bcec4dea",
   "metadata": {
    "jupyter": {
     "is_executing": true
    }
   },
   "source": [],
   "outputs": [],
   "execution_count": null
  },
  {
   "cell_type": "code",
   "id": "f2316795-bb1b-4909-9d46-4d76308865fd",
   "metadata": {
    "jupyter": {
     "is_executing": true
    }
   },
   "source": [],
   "outputs": [],
   "execution_count": null
  }
 ],
 "metadata": {
  "kernelspec": {
   "display_name": "Python 3 (ipykernel)",
   "language": "python",
   "name": "python3"
  }
 },
 "nbformat": 4,
 "nbformat_minor": 5
}
