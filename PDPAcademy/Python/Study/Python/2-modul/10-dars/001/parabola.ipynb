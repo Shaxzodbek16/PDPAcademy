{
 "cells": [
  {
   "cell_type": "code",
   "execution_count": null,
   "id": "3f4774e5-c43a-4292-92f1-f5bdbf47be01",
   "metadata": {},
   "outputs": [
    {
     "ename": "",
     "evalue": "",
     "output_type": "error",
     "traceback": [
      "\u001b[1;31mRunning cells with '/opt/homebrew/bin/python3' requires the ipykernel package.\n",
      "\u001b[1;31mRun the following command to install 'ipykernel' into the Python environment. \n",
      "\u001b[1;31mCommand: '/opt/homebrew/bin/python3 -m pip install ipykernel -U --user --force-reinstall'"
     ]
    }
   ],
   "source": [
    "import matplotlib.pyplot as plt\n",
    "list_x=range(-125,126)\n",
    "list_y=[]\n",
    "for i in list_x:\n",
    "    list_y.append(i*i)\n",
    "\n",
    "plt.plot(\"Mahmud\",list_y)"
   ]
  },
  {
   "cell_type": "code",
   "execution_count": null,
   "id": "da5a7bb2-fde1-4b6c-abdc-47c1e48477a9",
   "metadata": {},
   "outputs": [],
   "source": []
  }
 ],
 "metadata": {
  "kernelspec": {
   "display_name": "Python 3 (ipykernel)",
   "language": "python",
   "name": "python3"
  },
  "language_info": {
   "codemirror_mode": {
    "name": "ipython",
    "version": 3
   },
   "file_extension": ".py",
   "mimetype": "text/x-python",
   "name": "python",
   "nbconvert_exporter": "python",
   "pygments_lexer": "ipython3",
   "version": "3.12.2"
  }
 },
 "nbformat": 4,
 "nbformat_minor": 5
}
